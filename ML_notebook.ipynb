{
 "cells": [
  {
   "cell_type": "code",
   "execution_count": 11,
   "metadata": {
    "collapsed": true
   },
   "outputs": [],
   "source": [
    "import re\n",
    "import nltk\n",
    "from sklearn.feature_extraction.text import TfidfVectorizer\n",
    "from sklearn.linear_model import LogisticRegression, SGDClassifier\n",
    "from sklearn.grid_search import GridSearchCV\n",
    "from sklearn.metrics import roc_auc_score"
   ]
  },
  {
   "cell_type": "code",
   "execution_count": 12,
   "metadata": {
    "collapsed": false
   },
   "outputs": [],
   "source": [
    "VALUES_FILE = 'DATA/valued_articles.txt'\n",
    "TXT_ROOT = 'DATA/TXT/'\n",
    "tokenizer = nltk.tokenize.RegexpTokenizer(re.compile('(\\w+-?\\w*)+'))\n",
    "needless_types = {'IN','TO', 'POS', 'DT', 'MD', 'RP', 'PRP$', 'PRP', 'CD','CC'}"
   ]
  },
  {
   "cell_type": "code",
   "execution_count": 13,
   "metadata": {
    "collapsed": false
   },
   "outputs": [
    {
     "name": "stdout",
     "output_type": "stream",
     "text": [
      "number of articles =  186\n",
      "number_of_positive =  112 , number_of_negative =  74\n"
     ]
    }
   ],
   "source": [
    "articles = []\n",
    "values =[]\n",
    "with open(VALUES_FILE, 'r') as valued_articles:\n",
    "    list_of_names = valued_articles.read().strip().split('\\n')\n",
    "    for name in list_of_names:\n",
    "        values.append(int(name[-1:]))\n",
    "        with open((TXT_ROOT + name[:-2]).strip()) as txt_file:\n",
    "            articles.append(txt_file.read())\n",
    "print('number of articles = ', len(articles))\n",
    "\n",
    "pos = values.count(1)\n",
    "neg = values.count(0)\n",
    "print('number_of_positive = ', pos, ', number_of_negative = ', neg)"
   ]
  },
  {
   "cell_type": "code",
   "execution_count": 14,
   "metadata": {
    "collapsed": true
   },
   "outputs": [],
   "source": [
    "def take_valuable_words(article): \n",
    "    tagged = list(nltk.pos_tag(tokenizer.tokenize(article.lower())))\n",
    "    words = list()\n",
    "    for elem in tagged:\n",
    "        if elem[1] not in needless_types:\n",
    "            words.append(elem[0])\n",
    "    return words"
   ]
  },
  {
   "cell_type": "code",
   "execution_count": 15,
   "metadata": {
    "collapsed": false
   },
   "outputs": [
    {
     "name": "stdout",
     "output_type": "stream",
     "text": [
      "(186, 7686)\n"
     ]
    }
   ],
   "source": [
    "X = TfidfVectorizer(tokenizer = take_valuable_words).fit_transform(articles)\n",
    "print(X.shape)"
   ]
  },
  {
   "cell_type": "code",
   "execution_count": 16,
   "metadata": {
    "collapsed": true
   },
   "outputs": [],
   "source": [
    "border = (len(articles)//6)*5\n",
    "X_train, X_test = X[:border], X[border:]\n",
    "Y_train, Y_test = values[:border], values[border:]"
   ]
  },
  {
   "cell_type": "code",
   "execution_count": 17,
   "metadata": {
    "collapsed": true
   },
   "outputs": [],
   "source": [
    "def scorer(estimator, X, Y):\n",
    "    return roc_auc_score(Y, estimator.predict_proba(X)[:, 1])"
   ]
  },
  {
   "cell_type": "code",
   "execution_count": 18,
   "metadata": {
    "collapsed": true
   },
   "outputs": [],
   "source": [
    "searcher = GridSearchCV(\n",
    "    estimator = SGDClassifier(loss='log'),\n",
    "    param_grid = {'penalty': ['elasticnet'],\n",
    "                  'alpha': [0.001, 0.0001, 0.00001, 0.000001, 0.0000001],\n",
    "                  'l1_ratio': [0.0, 0.01, 0.05, 0.10, 0.2, 0.3, 0.4, 0.5]\n",
    "    },\n",
    "    scoring = scorer,\n",
    "    cv = 5\n",
    ")"
   ]
  },
  {
   "cell_type": "code",
   "execution_count": 19,
   "metadata": {
    "collapsed": false
   },
   "outputs": [
    {
     "name": "stdout",
     "output_type": "stream",
     "text": [
      "best score =  0.666792187251\n",
      "best params =  {'alpha': 0.001, 'l1_ratio': 0.5, 'penalty': 'elasticnet'}\n",
      "test result =  0.668181818182\n"
     ]
    }
   ],
   "source": [
    "searcher.fit(X_train, Y_train);\n",
    "print('best score = ', searcher.best_score_)\n",
    "print('best params = ', searcher.best_params_)\n",
    "\n",
    "best_cls = searcher.best_estimator_\n",
    "print('test result = ', scorer(best_cls, X_test, Y_test))"
   ]
  },
  {
   "cell_type": "code",
   "execution_count": null,
   "metadata": {
    "collapsed": true
   },
   "outputs": [],
   "source": []
  }
 ],
 "metadata": {
  "kernelspec": {
   "display_name": "Python 3",
   "language": "python",
   "name": "python3"
  },
  "language_info": {
   "codemirror_mode": {
    "name": "ipython",
    "version": 3
   },
   "file_extension": ".py",
   "mimetype": "text/x-python",
   "name": "python",
   "nbconvert_exporter": "python",
   "pygments_lexer": "ipython3",
   "version": "3.5.1"
  }
 },
 "nbformat": 4,
 "nbformat_minor": 0
}
